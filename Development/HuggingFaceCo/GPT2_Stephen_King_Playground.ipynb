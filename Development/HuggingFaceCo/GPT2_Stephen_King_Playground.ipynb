{
 "cells": [
  {
   "cell_type": "code",
   "execution_count": 1,
   "metadata": {},
   "outputs": [],
   "source": [
    "import tensorflow as tf\n",
    "import torch\n",
    "from transformers import GPT2Model, GPT2Config\n",
    "import ipywidgets\n",
    "from IPython import display"
   ]
  },
  {
   "cell_type": "code",
   "execution_count": 2,
   "metadata": {},
   "outputs": [
    {
     "name": "stdout",
     "output_type": "stream",
     "text": [
      "Running on device:  cuda\n"
     ]
    }
   ],
   "source": [
    "device = torch.device(\"cuda\" if torch.cuda.is_available() else \"cpu\")\n",
    "n_gpu = torch.cuda.device_count()\n",
    "print(\"Running on device: \", device)\n"
   ]
  },
  {
   "cell_type": "code",
   "execution_count": 4,
   "metadata": {},
   "outputs": [
    {
     "name": "stdout",
     "output_type": "stream",
     "text": [
      "GPT2Config {\n",
      "  \"activation_function\": \"gelu_new\",\n",
      "  \"attn_pdrop\": 0.1,\n",
      "  \"bos_token_id\": 50256,\n",
      "  \"embd_pdrop\": 0.1,\n",
      "  \"eos_token_id\": 50256,\n",
      "  \"gradient_checkpointing\": false,\n",
      "  \"initializer_range\": 0.02,\n",
      "  \"layer_norm_epsilon\": 1e-05,\n",
      "  \"model_type\": \"gpt2\",\n",
      "  \"n_ctx\": 1024,\n",
      "  \"n_embd\": 768,\n",
      "  \"n_head\": 12,\n",
      "  \"n_inner\": null,\n",
      "  \"n_layer\": 12,\n",
      "  \"n_positions\": 1024,\n",
      "  \"resid_pdrop\": 0.1,\n",
      "  \"summary_activation\": null,\n",
      "  \"summary_first_dropout\": 0.1,\n",
      "  \"summary_proj_to_labels\": true,\n",
      "  \"summary_type\": \"cls_index\",\n",
      "  \"summary_use_proj\": true,\n",
      "  \"vocab_size\": 50257\n",
      "}\n",
      "\n"
     ]
    }
   ],
   "source": [
    "# Initializing a GPT2 configuration\n",
    "configuration = GPT2Config()\n",
    "# Initializing a model from the configuration\n",
    "model = GPT2Model(configuration)\n",
    "# Accessing the model configuration\n",
    "configuration = model.config\n",
    "print(configuration)"
   ]
  },
  {
   "cell_type": "code",
   "execution_count": 5,
   "metadata": {},
   "outputs": [
    {
     "name": "stderr",
     "output_type": "stream",
     "text": [
      "c:\\users\\carson\\onedrive\\desktop\\programming\\projects\\epic\\transformers\\src\\transformers\\modeling_auto.py:810: FutureWarning: The class `AutoModelWithLMHead` is deprecated and will be removed in a future version. Please use `AutoModelForCausalLM` for causal language models, `AutoModelForMaskedLM` for masked language models and `AutoModelForSeq2SeqLM` for encoder-decoder models.\n",
      "  FutureWarning,\n"
     ]
    }
   ],
   "source": [
    "from transformers import AutoTokenizer, AutoModelWithLMHead\n",
    "\n",
    "# Initialize tokenizer\n",
    "tokenizer = AutoTokenizer.from_pretrained('gpt2-medium')\n",
    "# Download model and configuration from S3 and cache.\n",
    "model = AutoModelWithLMHead.from_pretrained('gpt2-medium', pad_token_id=tokenizer.eos_token_id)\n",
    "\n",
    "\n",
    "input_context = 'Eating disorders are'\n",
    "bad_words_ids = [tokenizer.encode(bad_word, add_prefix_space=True) for bad_word in ['idiot', 'stupid', 'shut up']]\n",
    "input_ids = tokenizer.encode(input_context, return_tensors='pt')  # encode input context"
   ]
  },
  {
   "cell_type": "code",
   "execution_count": 6,
   "metadata": {},
   "outputs": [
    {
     "name": "stdout",
     "output_type": "stream",
     "text": [
      "Normal Output:\n",
      "----------------------------------------------------------------------------------------------------\n",
      "Eating disorders are not typically listed as a treatable condition in the Diagnostic and Statistical Manual of Mental Disorders (DSM-5).\n",
      "\n",
      "How is eating disorder care coordinated?\n",
      "\n",
      "Eating disorder therapy is coordinated by a professional trained in the management of eating disorders. The type of eating disorder is determined by the individual and his or her presentation of DSM-IV eating disorders. Eating disorders are classified into three categories:\n",
      "\n",
      "Overweight and underweight – this group may be classified either\n"
     ]
    }
   ],
   "source": [
    "# Normal Output\n",
    "outputs = model.generate(input_ids=input_ids, max_length=100, do_sample=True, bad_words_ids=bad_words_ids)  # generate sequences without allowing bad_words to be generated\n",
    "print(\"Normal Output:\\n\" + 100 * '-')\n",
    "print(tokenizer.decode(outputs[0], skip_special_tokens=True))\n"
   ]
  },
  {
   "cell_type": "code",
   "execution_count": 7,
   "metadata": {},
   "outputs": [
    {
     "name": "stdout",
     "output_type": "stream",
     "text": [
      "Beam Search Output:\n",
      "----------------------------------------------------------------------------------------------------\n",
      "Eating disorders are the most common form of eating disorders in the United States, accounting for more than one-third of all eating disorders reported to the National Institute of Mental Health (NIMH), according to the National Eating Disorders Association (NEDA).\n",
      "\n",
      "The NEDA defines an eating disorder as:\n",
      "\n",
      "\"Anorexia nervosa, bulimia nervosa, binge eating disorder, and anorexia nervosa plus anorexia nervosa plus bulimia nerv\n"
     ]
    }
   ],
   "source": [
    "# activate beam search and early_stopping\n",
    "beam_output = model.generate(\n",
    "    input_ids, \n",
    "    max_length=100, \n",
    "    num_beams=5, \n",
    "    early_stopping=True\n",
    ")\n",
    "\n",
    "print(\"Beam Search Output:\\n\" + 100 * '-')\n",
    "print(tokenizer.decode(beam_output[0], skip_special_tokens=True))\n"
   ]
  },
  {
   "cell_type": "code",
   "execution_count": 8,
   "metadata": {},
   "outputs": [
    {
     "name": "stdout",
     "output_type": "stream",
     "text": [
      "Output:\n",
      "----------------------------------------------------------------------------------------------------\n",
      "Eating disorders are the most common form of eating disorders in the United States, accounting for more than one-third of all eating disorders reported to the National Institute of Mental Health (NIMH), according to the National Eating Disorders Association (NEDA).\n",
      "\n",
      "According to the NEDA, eating disorders are the most common type of eating disorder in the United States, with an estimated 1.3 million people in the U.S. suffering from an eating disorder in 2013.\n",
      "\n",
      "\n"
     ]
    }
   ],
   "source": [
    "# set no_repeat_ngram_size to 2\n",
    "beam_output = model.generate(\n",
    "    input_ids, \n",
    "    max_length=100, \n",
    "    num_beams=6, \n",
    "    no_repeat_ngram_size=6, \n",
    "    early_stopping=True\n",
    ")\n",
    "\n",
    "print(\"Output:\\n\" + 100 * '-')\n",
    "print(tokenizer.decode(beam_output[0], skip_special_tokens=True))"
   ]
  },
  {
   "cell_type": "code",
   "execution_count": 9,
   "metadata": {},
   "outputs": [
    {
     "name": "stdout",
     "output_type": "stream",
     "text": [
      "Output:\n",
      "----------------------------------------------------------------------------------------------------\n",
      "0: Eating disorders are the most common form of eating disorders in the United States, accounting for more than one-third of all eating-disorder cases.1,2,3,4,5,6,7,8,9,10,11,12,13,14,15,16,17,18,19,20,21,22,23,24,25,26,27,28,29,30,31,32,33,34,35\n",
      "1: Eating disorders are the most common form of eating disorders in the United States, accounting for more than one-third of all eating-disorder-related hospitalizations.1,2,3,4,5,6,7,8,9,10,11,12,13,14,15,16,17,18,19,20,21,22,23,24,25,26,27,28,29,30,31,32,33,\n",
      "2: Eating disorders are the most common form of eating disorders in the United States, accounting for more than one-third of all eating-disorder cases.1,2,3,4,5,6,7,8,9,10,11,12,13,14,15,16,17,18,19,20,21,22,23,24,25,26,27,28,29,30,32,33,34,35,36\n",
      "3: Eating disorders are the most common form of eating disorders in the United States, accounting for more than one-third of all eating-disorder cases.1,2,3,4,5,6,7,8,9,10,11,12,13,14,15,16,17,18,19,20,21,22,23,24,25,26,27,28,29,30,31,32,33,34\n",
      "\n",
      "\n",
      "4: Eating disorders are the most common form of eating disorders in the United States, accounting for more than one-third of all eating-disorder cases.1,2,3,4,5,6,7,8,9,10,11,12,13,14,15,16,17,18,19,20,21,22,23,24,25,26,27,28,29,30,31,32,34,35,36\n"
     ]
    }
   ],
   "source": [
    "# set return_num_sequences > 1\n",
    "beam_outputs = model.generate(\n",
    "    input_ids, \n",
    "    max_length=100, \n",
    "    num_beams=5, \n",
    "    no_repeat_ngram_size=2, \n",
    "    num_return_sequences=5, \n",
    "    early_stopping=True\n",
    ")\n",
    "\n",
    "# now we have 3 output sequences\n",
    "print(\"Output:\\n\" + 100 * '-')\n",
    "for i, beam_output in enumerate(beam_outputs):\n",
    "  print(\"{}: {}\".format(i, tokenizer.decode(beam_output, skip_special_tokens=True)))\n"
   ]
  },
  {
   "cell_type": "code",
   "execution_count": 10,
   "metadata": {},
   "outputs": [
    {
     "name": "stdout",
     "output_type": "stream",
     "text": [
      "Output:\n",
      "----------------------------------------------------------------------------------------------------\n",
      "Eating disorders are now a complex mixture of genes, eating attitudes, and situations. A binge-eating disorder (or BED) can develop due to extreme enough emotional stress or overeating that the body is unable to control itself or even learn to sustain stress. Since tonics in normal eating can have little or no acute effect, someone who doesn't properly adhere to diet alone will show signs of curdling when they restrict their diet to one meal a day until from time to time.\n",
      "\n"
     ]
    }
   ],
   "source": [
    "# activate sampling and deactivate top_k by setting top_k sampling to 0\n",
    "sample_output = model.generate(\n",
    "    input_ids, \n",
    "    do_sample=True, \n",
    "    max_length=100, \n",
    "    top_k=0\n",
    ")\n",
    "\n",
    "print(\"Output:\\n\" + 100 * '-')\n",
    "print(tokenizer.decode(sample_output[0], skip_special_tokens=True))"
   ]
  },
  {
   "cell_type": "code",
   "execution_count": 11,
   "metadata": {},
   "outputs": [
    {
     "name": "stdout",
     "output_type": "stream",
     "text": [
      "Output:\n",
      "----------------------------------------------------------------------------------------------------\n",
      "Eating disorders are very common, and many people with them are at risk of developing other health problems, including obesity, type 2 diabetes, and heart disease.\n",
      "\n",
      "What are the risks of food allergies?\n",
      "\n",
      "If you have an allergy to one or more of the common foods listed above, you will likely experience some of the symptoms of food allergy, but most people will not experience any severe symptoms.\n",
      "\n",
      "Table 1. Food allergy symptoms\n",
      "\n",
      "a) Allergy symptoms that may be\n"
     ]
    }
   ],
   "source": [
    "# use temperature to decrease the sensitivity to low probability candidates\n",
    "sample_output = model.generate(\n",
    "    input_ids, \n",
    "    do_sample=True, \n",
    "    max_length=100, \n",
    "    top_k=0, \n",
    "    temperature=0.7\n",
    ")\n",
    "\n",
    "print(\"Output:\\n\" + 100 * '-')\n",
    "print(tokenizer.decode(sample_output[0], skip_special_tokens=True))"
   ]
  },
  {
   "cell_type": "code",
   "execution_count": 12,
   "metadata": {},
   "outputs": [
    {
     "name": "stdout",
     "output_type": "stream",
     "text": [
      "Output:\n",
      "----------------------------------------------------------------------------------------------------\n",
      "Eating disorders are becoming the norm, not the exception. Many individuals with eating disorders believe that eating disorders are something unique to their particular situation and situation is not the issue. However, in an effort to encourage awareness and access to education and treatment services related to eating disorders, it has become necessary to ask one person what is the most important thing in life.\n",
      "\n",
      "This is a blog post for information on one or more particular mental illnesses and related disorders. However, it does not necessarily mean that\n"
     ]
    }
   ],
   "source": [
    "# set top_k to 50\n",
    "sample_output = model.generate(\n",
    "    input_ids, \n",
    "    do_sample=True, \n",
    "    max_length=100, \n",
    "    top_k=50\n",
    ")\n",
    "\n",
    "print(\"Output:\\n\" + 100 * '-')\n",
    "print(tokenizer.decode(sample_output[0], skip_special_tokens=True))"
   ]
  },
  {
   "cell_type": "code",
   "execution_count": 13,
   "metadata": {},
   "outputs": [
    {
     "name": "stdout",
     "output_type": "stream",
     "text": [
      "Output:\n",
      "----------------------------------------------------------------------------------------------------\n",
      "Eating disorders are common, but they are often determined, as in chronic fatigue syndrome, by factors outside the actions of your brain. The cause of two well-known conditions, irritable bowel syndrome and Crohn's disease, is not known; however, factors such as genetic makeup and diet are known to trigger some of these disorders.\n",
      "\n",
      "One sure sign of irritable bowel syndrome, known as irritable bowel disease and ulcerative colitis, is constipation. It is caused by\n"
     ]
    }
   ],
   "source": [
    "# deactivate top_k sampling and sample only from 92% most likely words\n",
    "sample_output = model.generate(\n",
    "    input_ids, \n",
    "    do_sample=True, \n",
    "    max_length=100, \n",
    "    top_p=0.92, \n",
    "    top_k=0\n",
    ")\n",
    "\n",
    "print(\"Output:\\n\" + 100 * '-')\n",
    "print(tokenizer.decode(sample_output[0], skip_special_tokens=True))"
   ]
  },
  {
   "cell_type": "code",
   "execution_count": 14,
   "metadata": {},
   "outputs": [
    {
     "name": "stdout",
     "output_type": "stream",
     "text": [
      "Output:\n",
      "----------------------------------------------------------------------------------------------------\n",
      "0: Eating disorders are also a common cause of anxiety and depression.\n",
      "\n",
      "\"While this study focuses on a population that is at higher risk, our findings suggest that a range of behaviors — from diet, exercise and environmental exposures — can be associated with anxiety and depression in eating disorders.\"\n",
      "\n",
      "_____\n",
      "\n",
      "Baeza R, Ojala A, Fava JH, Kao P, et al. Obesity and anxiety are comorbidities in eating disorders. J Psychosom\n",
      "1: Eating disorders are caused by poor nutritional habits, which can include excessive sugar consumption and excessive exercise. One study found that obese people who consumed more calories than needed daily were 30 to 40 percent more likely to develop a metabolic syndrome.\n",
      "\n",
      "Exercise training and eating disorders can occur because people simply don't know how to control their intake, said Dr. Robert Schwartz, the senior director of the division of metabolic and metabolic diseases at the UCLA division of obesity research and epidemiology, and the founder of\n",
      "2: Eating disorders are one of the main causes of death in some developing countries. In developing countries, people often are forced to go hungry because of very low wages. Eating disorders can have significant personal consequences:\n",
      "\n",
      "• In a 2012 survey of 817 women aged 15–45 years living in India, nearly a third were reported to have had an eating disorder as compared to 4% in the general population.\n",
      "\n",
      "• In a survey of 603 women aged 15–47 years living in India\n"
     ]
    }
   ],
   "source": [
    "# set top_k = 50 and set top_p = 0.95 and num_return_sequences = 3\n",
    "sample_outputs = model.generate(\n",
    "    input_ids,\n",
    "    do_sample=True, \n",
    "    max_length=100, \n",
    "    top_k=50, \n",
    "    top_p=0.95, \n",
    "    num_return_sequences=3\n",
    ")\n",
    "\n",
    "print(\"Output:\\n\" + 100 * '-')\n",
    "for i, sample_output in enumerate(sample_outputs):\n",
    "  print(\"{}: {}\".format(i, tokenizer.decode(sample_output, skip_special_tokens=True)))"
   ]
  },
  {
   "cell_type": "markdown",
   "metadata": {},
   "source": [
    "Worrying but funny output:\n",
    "\n",
    "\n",
    "\"My cute dog was so upset and he yelled at me! He came to try and find me!\" she said.\n",
    "Cecilia said she did not feel safe for about 2 hours until police came to her side. \"I was screaming but I couldn't see because of the sun light,\" she said. \"Then the police said there's nothing they could do. I kept saying my dog has to go but I don't believe that because I live right on top of them.\"\n",
    "\n",
    "\n",
    "* min_length: can be used to force the model to not produce an EOS token (= not finish the sentence) before min_length is reached. This is used quite frequently in summarization, but can be useful in general if the user wants to have longer outputs.\n",
    "\n",
    "* repetition_penalty: can be used to penalize words that were already generated or belong to the context. It was first introduced by Kesker et al. (2019) and is also used in the training objective in Welleck et al. (2019). It can be quite effective at preventing repetitions, but seems to be very sensitive to different models and use cases, e.g. see this discussion on Github.\n",
    "\n",
    "* attention_mask: can be used to mask padded tokens\n",
    "\n",
    "* pad_token_id, bos_token_id, eos_token_id: If the model does not have those tokens by default, the user can manually choose other token ids to represent them.\n",
    "\n"
   ]
  }
 ],
 "metadata": {
  "kernelspec": {
   "display_name": "Python 3",
   "language": "python",
   "name": "python3"
  },
  "language_info": {
   "codemirror_mode": {
    "name": "ipython",
    "version": 3
   },
   "file_extension": ".py",
   "mimetype": "text/x-python",
   "name": "python",
   "nbconvert_exporter": "python",
   "pygments_lexer": "ipython3",
   "version": "3.7.9"
  }
 },
 "nbformat": 4,
 "nbformat_minor": 4
}
